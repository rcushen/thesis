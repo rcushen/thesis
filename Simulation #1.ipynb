{
 "cells": [
  {
   "cell_type": "markdown",
   "metadata": {},
   "source": [
    "# Simulation #1\n",
    "This workbook is a first attempt at constructing a simulation of a stochastic dynamical system, with an accompanying estimation of the Perron-Frobenius operator."
   ]
  },
  {
   "cell_type": "code",
   "execution_count": 65,
   "metadata": {},
   "outputs": [],
   "source": [
    "using LinearAlgebra, Plots, Distributions"
   ]
  },
  {
   "cell_type": "code",
   "execution_count": 66,
   "metadata": {},
   "outputs": [],
   "source": [
    "include(\"functions.jl\");\n",
    "include(\"nnlsq.jl\");"
   ]
  },
  {
   "cell_type": "code",
   "execution_count": 67,
   "metadata": {},
   "outputs": [],
   "source": [
    "#pyplot();"
   ]
  },
  {
   "cell_type": "markdown",
   "metadata": {},
   "source": [
    "## Setting up the dynamics\n",
    "The state space $X$ of our dynamical system will be the flat torus $\\mathbb{T}^2$, represented by the unit square."
   ]
  },
  {
   "cell_type": "code",
   "execution_count": 68,
   "metadata": {},
   "outputs": [
    {
     "name": "stdout",
     "output_type": "stream",
     "text": [
      "Our reference grid contains 10000 points.\n"
     ]
    }
   ],
   "source": [
    "range = 2π;\n",
    "grid_size = 100;\n",
    "n_gridpoints = grid_size ^ 2;\n",
    "\n",
    "println(\"Our reference grid contains $n_gridpoints points.\")"
   ]
  },
  {
   "cell_type": "code",
   "execution_count": 69,
   "metadata": {},
   "outputs": [],
   "source": [
    "grid = creategrid(0, range, grid_size);"
   ]
  },
  {
   "cell_type": "markdown",
   "metadata": {},
   "source": [
    "We will define an initial density $f_0 (x, y)$ on this state space."
   ]
  },
  {
   "cell_type": "code",
   "execution_count": 70,
   "metadata": {},
   "outputs": [],
   "source": [
    "f0s = [f0(grid[n,:], range; dist=\"normal\") for n in 1:n_gridpoints];\n",
    "#surface(grid[:,1], grid[:,2], f0s, markersize=1)"
   ]
  },
  {
   "cell_type": "markdown",
   "metadata": {},
   "source": [
    "To obtain a sample from this initial density $f_0$, we can use rejection sampling."
   ]
  },
  {
   "cell_type": "code",
   "execution_count": 71,
   "metadata": {},
   "outputs": [],
   "source": [
    "n_samples = 10000;\n",
    "candidate_points = range .* rand(n_samples,2);\n",
    "f0s = [f0(candidate_points[n,:], range; dist=\"normal\") for n in 1:n_samples];\n",
    "thresholds = 1/40 .* rand(n_samples);\n",
    "sample = candidate_points[f0s .> thresholds, :];\n",
    "\n",
    "#histogram2d(sample[:,1], sample[:,2], bins=20)"
   ]
  },
  {
   "cell_type": "code",
   "execution_count": 72,
   "metadata": {},
   "outputs": [
    {
     "name": "stdout",
     "output_type": "stream",
     "text": [
      "We obtain an initial sample of 4542 points\n"
     ]
    }
   ],
   "source": [
    "sample_size = size(sample, 1);\n",
    "println(\"We obtain an initial sample of $sample_size points\")"
   ]
  },
  {
   "cell_type": "markdown",
   "metadata": {},
   "source": [
    "The particular map $S: \\mathbb{T}^2 \\to \\mathbb{T}^2$ chosen to introduce the dynamics is the standard map, given by\n",
    "$$\n",
    "S ([x , y]) := \\begin{bmatrix} x + y \\\\ y + a \\sin ( x + y) \\end{bmatrix} \\mod 2\\pi\n",
    "$$\n",
    "where $a$ is a parameter which controls the amount of chaos, and which for the moment we take to be $a=6$. This map is easily wrapped in a function ```S``` which can then be iterated forward across timesteps via ```Sforward```."
   ]
  },
  {
   "cell_type": "markdown",
   "metadata": {},
   "source": [
    "We can then easily compare the initial density $f_0$ with a naive estimate of a limiting density $f_*$ by computing the latter with a big value for ```S_forward```."
   ]
  },
  {
   "cell_type": "code",
   "execution_count": 73,
   "metadata": {},
   "outputs": [],
   "source": [
    "fstar = S_forward(sample, S, 100);"
   ]
  },
  {
   "cell_type": "code",
   "execution_count": 74,
   "metadata": {},
   "outputs": [],
   "source": [
    "#histogram2d(fstar[:,1], fstar[:,2], bins=30)"
   ]
  },
  {
   "cell_type": "markdown",
   "metadata": {},
   "source": [
    "This map $S$ is volume preserving, so we should expect to see the same density no matter how many times $S$ is applied."
   ]
  },
  {
   "cell_type": "markdown",
   "metadata": {},
   "source": [
    "## Estimating the Perron-Frobenius operator\n",
    "Having established a model for the dynamics, next we want to estimate the Perron-Frobenius operator. \n",
    "$$\n",
    "\\mathcal{P} : L^1(X) \\to L^1(X)\n",
    "$$\n",
    "To do so, we will need to work in a finite-dimensional subspace of $L^1(X)$. And actually. we will be estimating a stochastically perturbed version of $\\mathcal{P}$, described by\n",
    "$$\n",
    " \\mathcal{L} f(y) = \\int_X k(Sx, y ) f(x) dx\n",
    "$$\n",
    "where $k(x, y) = \\phi(x-y)$. So our goal is an estimated matrix $L$."
   ]
  },
  {
   "cell_type": "markdown",
   "metadata": {},
   "source": [
    "To estimate $L$, we first must define this finite basis for $L^1(X)$. For the moment we will take this basis to be a uniform grid of radial basis functions (RBFs) $\\varphi_i$. These will be of the form\n",
    "$$\n",
    "\\varphi_i (x) = \\phi ( x - z_i ) := \\exp \\left( - \\frac{\\| x - z_i \\|^2}{\\epsilon^2} \\right)\n",
    "$$\n",
    "where the $z_i$ denote the centres of each RBF and $\\epsilon$ is some bandwidth parameter. We can wrap this calculation in the general function ```\\Phi```."
   ]
  },
  {
   "cell_type": "code",
   "execution_count": 75,
   "metadata": {},
   "outputs": [],
   "source": [
    "ϵ = 1;\n",
    "c = π * ϵ^2;"
   ]
  },
  {
   "cell_type": "code",
   "execution_count": 76,
   "metadata": {},
   "outputs": [
    {
     "name": "stdout",
     "output_type": "stream",
     "text": [
      "We choose a basis of 625 RBFs.\n"
     ]
    }
   ],
   "source": [
    "basis_grid_size = 25;\n",
    "n_bases = basis_grid_size ^ 2;\n",
    "\n",
    "println(\"We choose a basis of $n_bases RBFs.\")"
   ]
  },
  {
   "cell_type": "code",
   "execution_count": 77,
   "metadata": {},
   "outputs": [],
   "source": [
    "basis_locs = creategrid(0, range, basis_grid_size);"
   ]
  },
  {
   "cell_type": "markdown",
   "metadata": {},
   "source": [
    "These basis functions can be easily visualised by evaluating all grid points against each."
   ]
  },
  {
   "cell_type": "code",
   "execution_count": 78,
   "metadata": {},
   "outputs": [],
   "source": [
    "basis_evaluation_matrix = zeros(n_gridpoints, n_bases);\n",
    "for b in 1:n_bases\n",
    "    for i in 1:n_gridpoints\n",
    "        basis_evaluation_matrix[i, b] = φ(grid[i, :], basis_locs[b, :], ϵ);\n",
    "    end\n",
    "end"
   ]
  },
  {
   "cell_type": "code",
   "execution_count": 79,
   "metadata": {},
   "outputs": [
    {
     "ename": "LoadError",
     "evalue": "UndefVarError: evaluation_matrix not defined",
     "output_type": "error",
     "traceback": [
      "UndefVarError: evaluation_matrix not defined",
      "",
      "Stacktrace:",
      " [1] top-level scope",
      "   @ In[79]:1",
      " [2] eval",
      "   @ ./boot.jl:360 [inlined]",
      " [3] include_string(mapexpr::typeof(REPL.softscope), mod::Module, code::String, filename::String)",
      "   @ Base ./loading.jl:1094"
     ]
    }
   ],
   "source": [
    "basis_surface = sum(evaluation_matrix, dims=2);\n",
    "#surface(grid[:,1], grid[:,2], basis_surface)"
   ]
  },
  {
   "cell_type": "markdown",
   "metadata": {},
   "source": [
    "In order to estimate the integral\n",
    "$$\n",
    "    \\mathcal{L} f(y) = \\int_X k (Sx, y) f(x) dx\n",
    "$$\n",
    "we will also need an approximate Lebesgue measure for the integral wrt $dx$. This will be some weighted combination of all the datapoints, subject to the constraint that obviously each basis function should integrate to a constant. We can estimate these weights $w$ using nonnegative least squares, though this will first require an evaluation matrix on the sample according to the basis functions."
   ]
  },
  {
   "cell_type": "code",
   "execution_count": 80,
   "metadata": {},
   "outputs": [],
   "source": [
    "Φ = evaluate_phi(sample, basis_locs, φ, ϵ);"
   ]
  },
  {
   "cell_type": "code",
   "execution_count": 81,
   "metadata": {},
   "outputs": [],
   "source": [
    "C = c * ones(n_bases);"
   ]
  },
  {
   "cell_type": "code",
   "execution_count": 82,
   "metadata": {},
   "outputs": [
    {
     "name": "stdout",
     "output_type": "stream",
     "text": [
      "Academic license - for non-commercial use only - expires 2021-08-05\n",
      "Warning for adding constraints: zero or small (< 1e-13) coefficients, ignored\n",
      "Gurobi Optimizer version 9.1.2 build v9.1.2rc0 (mac64)\n",
      "Thread count: 2 physical cores, 4 logical processors, using up to 4 threads\n",
      "Optimize a model with 625 rows, 5167 columns and 2756168 nonzeros\n",
      "Model fingerprint: 0x54c3d429\n",
      "Model has 625 quadratic objective terms\n",
      "Coefficient statistics:\n",
      "  Matrix range     [1e-13, 1e+00]\n",
      "  Objective range  [0e+00, 0e+00]\n",
      "  QObjective range [2e+00, 2e+00]\n",
      "  Bounds range     [0e+00, 0e+00]\n",
      "  RHS range        [3e+00, 3e+00]\n",
      "Presolve time: 0.70s\n",
      "Presolved: 625 rows, 5167 columns, 2756168 nonzeros\n",
      "Presolved model has 625 quadratic objective terms\n",
      "Ordering time: 0.00s\n",
      "\n",
      "Barrier statistics:\n",
      " AA' NZ     : 1.950e+05\n",
      " Factor NZ  : 1.956e+05 (roughly 4 MBytes of memory)\n",
      " Factor Ops : 8.158e+07 (less than 1 second per iteration)\n",
      " Threads    : 2\n",
      "\n",
      "                  Objective                Residual\n",
      "Iter       Primal          Dual         Primal    Dual     Compl     Time\n",
      "   0   1.54290127e+08 -1.56243842e+08  8.09e+05 0.00e+00  9.99e+05     2s\n",
      "   1   4.08972762e+07 -4.18985760e+07  1.36e+04 0.00e+00  3.14e+04     2s\n",
      "   2   5.63321969e+06 -6.00243187e+06  1.34e+02 0.00e+00  2.40e+03     3s\n",
      "   3   8.06633929e+05 -9.45804473e+05  1.34e-04 0.00e+00  3.39e+02     3s\n",
      "   4   1.03236684e+05 -1.52723251e+05  1.35e-10 2.27e-12  4.95e+01     4s\n",
      "   5   1.05655957e+04 -2.60473134e+04  7.73e-14 1.39e-12  7.09e+00     5s\n",
      "   6   6.64302126e+02 -3.88383024e+03  5.42e-14 7.11e-13  8.80e-01     5s\n",
      "   7   1.26262063e+02 -2.53554949e+02  5.06e-14 1.55e-13  7.35e-02     6s\n",
      "   8   1.01232168e+02  1.12955066e+01  5.21e-13 4.17e-14  1.74e-02     6s\n",
      "   9   9.44549376e+01  7.73220224e+01  4.71e-13 1.71e-14  3.32e-03     7s\n",
      "  10   9.09588150e+01  8.29990400e+01  2.51e-12 1.69e-14  1.54e-03     8s\n",
      "  11   8.93599761e+01  8.73319781e+01  2.71e-12 1.07e-14  3.92e-04     8s\n",
      "  12   8.86889830e+01  8.76266237e+01  5.36e-12 1.02e-14  2.06e-04     9s\n",
      "  13   8.81368991e+01  8.78067192e+01  1.09e-11 1.51e-14  6.39e-05    10s\n",
      "  14   8.79991725e+01  8.78388804e+01  9.68e-12 1.07e-14  3.10e-05    10s\n",
      "  15   8.79058858e+01  8.78587529e+01  1.60e-11 1.51e-14  9.12e-06    11s\n",
      "  16   8.78719166e+01  8.78649120e+01  2.66e-11 1.78e-14  1.36e-06    11s\n",
      "  17   8.78659254e+01  8.78658586e+01  4.06e-11 1.47e-14  1.29e-08    12s\n",
      "  18   8.78658675e+01  8.78658674e+01  7.00e-10 1.07e-14  1.81e-11    13s\n",
      "\n",
      "Barrier solved model in 18 iterations and 12.59 seconds\n",
      "Optimal objective 8.78658675e+01\n",
      "\n",
      "\n",
      "User-callback calls 336, time in user-callback 0.00 sec\n",
      "Objective value is: 87.86586751948653\n"
     ]
    }
   ],
   "source": [
    "w, residual, objvalue = nnlsq(Φ, C, 0);"
   ]
  },
  {
   "cell_type": "markdown",
   "metadata": {},
   "source": [
    "With these weights, we can now write the image of any basis function $\\varphi_i$ under $\\mathcal{L}$ as a linear combination of kernels centered at the image points, denoted $\\varphi_{y_j}$. But we obviously want to be able to write $\\mathcal \\varphi_i$ as just a linear combination of the $\\varphi_i$. To do this, we will need to write each $\\varphi_{y_j}$ itself as a linear combination of the $\\varphi_i$.\n",
    "$$\n",
    " \\varphi_{y_j} (y) = \\sum_{i=1}^m \\gamma_i \\varphi_i (y)\n",
    "$$\n",
    "The weights $\\gamma_i$ will be calculated as the integrals of $\\varphi_{y_j}$ over a Voronoi tesselation of the basis functions $\\varphi_i$, scaled according to weights $c_i$."
   ]
  },
  {
   "cell_type": "code",
   "execution_count": 83,
   "metadata": {},
   "outputs": [],
   "source": [
    "X = sample;\n",
    "Y = S(X);     "
   ]
  },
  {
   "cell_type": "code",
   "execution_count": 84,
   "metadata": {},
   "outputs": [],
   "source": [
    "Ξ = integrate_phiy(Y, basis_locs, range, 100);"
   ]
  },
  {
   "cell_type": "markdown",
   "metadata": {},
   "source": [
    "This is now everything we need to compute the matrix $L$."
   ]
  },
  {
   "cell_type": "code",
   "execution_count": null,
   "metadata": {},
   "outputs": [],
   "source": [
    "L = construct_L(w, Φ, Ξ);"
   ]
  }
 ],
 "metadata": {
  "kernelspec": {
   "display_name": "Julia 1.6.1",
   "language": "julia",
   "name": "julia-1.6"
  },
  "language_info": {
   "file_extension": ".jl",
   "mimetype": "application/julia",
   "name": "julia",
   "version": "1.6.1"
  }
 },
 "nbformat": 4,
 "nbformat_minor": 4
}
