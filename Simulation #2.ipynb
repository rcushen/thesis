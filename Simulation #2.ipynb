{
 "cells": [
  {
   "cell_type": "markdown",
   "metadata": {},
   "source": [
    "# Simulation #2\n",
    "Having written the functions required to implement estimation of $L$, we now experiment with a few different model parameters. First, however, it will be helpful to wrap all of the helper functions into a single ```estimate_L``` function."
   ]
  },
  {
   "cell_type": "code",
   "execution_count": 1,
   "metadata": {},
   "outputs": [],
   "source": [
    "using JLD"
   ]
  },
  {
   "cell_type": "code",
   "execution_count": 14,
   "metadata": {},
   "outputs": [],
   "source": [
    "include(\"functions.jl\");"
   ]
  },
  {
   "cell_type": "code",
   "execution_count": 3,
   "metadata": {},
   "outputs": [
    {
     "name": "stdout",
     "output_type": "stream",
     "text": [
      "search: \u001b[0m\u001b[1me\u001b[22m\u001b[0m\u001b[1ms\u001b[22m\u001b[0m\u001b[1mt\u001b[22m\u001b[0m\u001b[1mi\u001b[22m\u001b[0m\u001b[1mm\u001b[22m\u001b[0m\u001b[1ma\u001b[22m\u001b[0m\u001b[1mt\u001b[22m\u001b[0m\u001b[1me\u001b[22m\u001b[0m\u001b[1m_\u001b[22m\u001b[0m\u001b[1mL\u001b[22m \u001b[0m\u001b[1me\u001b[22m\u001b[0m\u001b[1ms\u001b[22m\u001b[0m\u001b[1mt\u001b[22m\u001b[0m\u001b[1mi\u001b[22m\u001b[0m\u001b[1mm\u001b[22m\u001b[0m\u001b[1ma\u001b[22m\u001b[0m\u001b[1mt\u001b[22m\u001b[0m\u001b[1me\u001b[22m Sk\u001b[0m\u001b[1me\u001b[22mw\u001b[0m\u001b[1mS\u001b[22mymme\u001b[0m\u001b[1mt\u001b[22mr\u001b[0m\u001b[1mi\u001b[22mc\u001b[0m\u001b[1mM\u001b[22m\u001b[0m\u001b[1ma\u001b[22m\u001b[0m\u001b[1mt\u001b[22mrixSpac\u001b[0m\u001b[1me\u001b[22m Sk\u001b[0m\u001b[1me\u001b[22mw\u001b[0m\u001b[1mS\u001b[22mymme\u001b[0m\u001b[1mt\u001b[22mr\u001b[0m\u001b[1mi\u001b[22mc\u001b[0m\u001b[1mM\u001b[22m\u001b[0m\u001b[1ma\u001b[22m\u001b[0m\u001b[1mt\u001b[22mrixShap\u001b[0m\u001b[1me\u001b[22m\n",
      "\n"
     ]
    },
    {
     "data": {
      "text/latex": [
       "\\begin{verbatim}\n",
       "estimate_L(state_space, sample_size, S, φ, ϵ, basis_grid_size, integral_resolution; dist)\n",
       "\\end{verbatim}\n",
       "Combines all of the helper functions into a single API for estimating the matrix L.\n",
       "\n",
       "Returns L.\n",
       "\n"
      ],
      "text/markdown": [
       "```\n",
       "estimate_L(state_space, sample_size, S, φ, ϵ, basis_grid_size, integral_resolution; dist)\n",
       "```\n",
       "\n",
       "Combines all of the helper functions into a single API for estimating the matrix L.\n",
       "\n",
       "Returns L.\n"
      ],
      "text/plain": [
       "\u001b[36m  estimate_L(state_space, sample_size, S, φ, ϵ, basis_grid_size, integral_resolution; dist)\u001b[39m\n",
       "\n",
       "  Combines all of the helper functions into a single API for estimating the\n",
       "  matrix L.\n",
       "\n",
       "  Returns L."
      ]
     },
     "execution_count": 3,
     "metadata": {},
     "output_type": "execute_result"
    }
   ],
   "source": [
    "?estimate_L"
   ]
  },
  {
   "cell_type": "code",
   "execution_count": 4,
   "metadata": {},
   "outputs": [],
   "source": [
    "state_space = Dict(\"min\"=>0, \"max\"=>2π);"
   ]
  },
  {
   "cell_type": "markdown",
   "metadata": {},
   "source": [
    "## Varying the integral resolution\n",
    "As an initial test, I don't expect that varying the resolution of the integral calculations should have a significant effect on the calculation of $L$."
   ]
  },
  {
   "cell_type": "code",
   "execution_count": null,
   "metadata": {},
   "outputs": [
    {
     "name": "stdout",
     "output_type": "stream",
     "text": [
      "Academic license - for non-commercial use only - expires 2021-08-05\n",
      "Warning for adding constraints: zero or small (< 1e-13) coefficients, ignored\n",
      "Gurobi Optimizer version 9.1.2 build v9.1.2rc0 (mac64)\n",
      "Thread count: 2 physical cores, 4 logical processors, using up to 4 threads\n",
      "Optimize a model with 1600 rows, 6600 columns and 6192871 nonzeros\n",
      "Model fingerprint: 0x8c086894\n",
      "Model has 6600 quadratic objective terms\n",
      "Coefficient statistics:\n",
      "  Matrix range     [1e-13, 1e+00]\n",
      "  Objective range  [5e-04, 5e-04]\n",
      "  QObjective range [2e-02, 2e+00]\n",
      "  Bounds range     [0e+00, 0e+00]\n",
      "  RHS range        [1e+00, 1e+00]\n",
      "Presolve time: 2.07s\n",
      "Presolved: 1600 rows, 6600 columns, 6192871 nonzeros\n",
      "Presolved model has 6600 quadratic objective terms\n",
      "Ordering time: 0.02s\n",
      "\n",
      "Barrier statistics:\n",
      " AA' NZ     : 1.279e+06\n",
      " Factor NZ  : 1.281e+06 (roughly 14 MBytes of memory)\n",
      " Factor Ops : 1.367e+09 (roughly 2 seconds per iteration)\n",
      " Threads    : 2\n",
      "\n",
      "                  Objective                Residual\n",
      "Iter       Primal          Dual         Primal    Dual     Compl     Time\n",
      "   0   1.19835544e+09 -1.19999832e+09  1.50e+05 0.00e+00  1.00e+06     5s\n",
      "   1   1.07304982e+08 -1.08152507e+08  1.17e+02 0.00e+00  3.33e+04     8s\n",
      "   2   1.55007397e+07 -1.58228391e+07  1.17e-04 0.00e+00  4.75e+03    11s\n",
      "   3   2.23341110e+06 -2.35566452e+06  1.17e-10 6.94e-12  6.95e+02    14s\n",
      "   4   3.13161176e+05 -3.58935589e+05  7.94e-14 3.94e-12  1.02e+02    16s\n",
      "   5   4.08432680e+04 -5.73725828e+04  3.33e-14 2.47e-12  1.49e+01    19s\n",
      "   6   4.36745904e+03 -9.77167807e+03  1.57e-14 9.16e-13  2.14e+00    22s\n",
      "   7   2.60293789e+02 -1.57861967e+03  6.33e-15 3.99e-13  2.79e-01    25s\n",
      "   8   2.24729309e+00 -1.21254338e+02  4.00e-15 1.33e-13  1.87e-02    27s\n",
      "   9   2.95489691e-02 -2.69659787e+00  2.94e-15 1.57e-14  4.13e-04    30s\n",
      "  10   1.47648741e-02 -3.94232160e-01  3.11e-15 1.05e-15  6.20e-05    33s\n",
      "  11   1.43197266e-02  4.74089718e-03  2.50e-15 2.48e-16  1.45e-06    36s\n",
      "  12   1.42518877e-02  1.40707968e-02  4.33e-15 2.22e-16  2.74e-08    38s\n",
      "  13   1.42503629e-02  1.42498272e-02  2.28e-15 2.22e-16  8.12e-11    41s\n",
      "  14   1.42503617e-02  1.42503612e-02  1.67e-15 2.22e-16  8.09e-14    44s\n",
      "\n",
      "Barrier solved model in 14 iterations and 43.95 seconds\n",
      "Optimal objective 1.42503617e-02\n",
      "\n",
      "\n",
      "User-callback calls 571, time in user-callback 0.01 sec\n",
      "Objective value is: 0.014250361716384038\n",
      "Estimation complete for: 100\n",
      "Academic license - for non-commercial use only - expires 2021-08-05\n",
      "Warning for adding constraints: zero or small (< 1e-13) coefficients, ignored\n",
      "Gurobi Optimizer version 9.1.2 build v9.1.2rc0 (mac64)\n",
      "Thread count: 2 physical cores, 4 logical processors, using up to 4 threads\n",
      "Optimize a model with 1600 rows, 6600 columns and 6193028 nonzeros\n",
      "Model fingerprint: 0x1ab14956\n",
      "Model has 6600 quadratic objective terms\n",
      "Coefficient statistics:\n",
      "  Matrix range     [1e-13, 1e+00]\n",
      "  Objective range  [5e-04, 5e-04]\n",
      "  QObjective range [2e-02, 2e+00]\n",
      "  Bounds range     [0e+00, 0e+00]\n",
      "  RHS range        [1e+00, 1e+00]\n",
      "Presolve time: 2.28s\n",
      "Presolved: 1600 rows, 6600 columns, 6193028 nonzeros\n",
      "Presolved model has 6600 quadratic objective terms\n",
      "Ordering time: 0.02s\n",
      "\n",
      "Barrier statistics:\n",
      " AA' NZ     : 1.279e+06\n",
      " Factor NZ  : 1.281e+06 (roughly 14 MBytes of memory)\n",
      " Factor Ops : 1.367e+09 (roughly 2 seconds per iteration)\n",
      " Threads    : 2\n",
      "\n",
      "                  Objective                Residual\n",
      "Iter       Primal          Dual         Primal    Dual     Compl     Time\n",
      "   0   1.19835544e+09 -1.19999832e+09  1.50e+05 0.00e+00  1.00e+06     6s\n",
      "   1   1.07299157e+08 -1.08146659e+08  1.13e+02 0.00e+00  3.33e+04    10s\n",
      "   2   1.55010332e+07 -1.58231367e+07  1.13e-04 0.00e+00  4.75e+03    13s\n",
      "   3   2.23344554e+06 -2.35570077e+06  1.13e-10 6.71e-12  6.95e+02    16s\n",
      "   4   3.13165278e+05 -3.58940572e+05  8.70e-14 3.93e-12  1.02e+02    20s\n",
      "   5   4.08436592e+04 -5.73733996e+04  3.46e-14 1.97e-12  1.49e+01    25s\n",
      "   6   4.36743551e+03 -9.77186265e+03  1.38e-14 9.74e-13  2.14e+00    31s\n",
      "   7   2.60253687e+02 -1.57868132e+03  6.72e-15 4.78e-13  2.79e-01    35s\n",
      "   8   2.23026571e+00 -1.21267331e+02  3.66e-15 1.50e-13  1.87e-02    38s\n",
      "   9   2.63457340e-02 -2.81589505e+00  2.94e-15 1.85e-14  4.31e-04    41s\n",
      "  10   1.48710318e-02 -5.70664435e-01  2.94e-15 9.86e-16  8.87e-05    43s\n",
      "  11   1.43135334e-02  3.28115490e-03  2.83e-15 3.23e-16  1.67e-06    46s\n",
      "  12   1.42393999e-02  1.40423724e-02  5.05e-15 2.22e-16  2.99e-08    49s\n",
      "  13   1.42378929e-02  1.42373319e-02  1.89e-15 2.22e-16  8.50e-11    52s\n",
      "  14   1.42378916e-02  1.42378910e-02  1.83e-15 2.22e-16  8.47e-14    54s\n",
      "\n",
      "Barrier solved model in 14 iterations and 54.39 seconds\n",
      "Optimal objective 1.42378916e-02\n",
      "\n",
      "\n",
      "User-callback calls 574, time in user-callback 0.00 sec\n",
      "Objective value is: 0.014237891592691274\n",
      "Estimation complete for: 200\n"
     ]
    }
   ],
   "source": [
    "integral_resolutions = [100, 200, 500, 1000];\n",
    "results = [];\n",
    "for res in integral_resolutions\n",
    "    L = estimate_L(state_space, 5000, S, φ, 0.57, 40, res);\n",
    "    push!(results, L);\n",
    "    println(\"Estimation complete for: $res\")\n",
    "end"
   ]
  },
  {
   "cell_type": "code",
   "execution_count": null,
   "metadata": {},
   "outputs": [],
   "source": [
    "d = Dict(\n",
    "    \"results\"=>results, \n",
    "    \"integral_resolutions\"=>integral_resolutions,\n",
    ");"
   ]
  },
  {
   "cell_type": "code",
   "execution_count": null,
   "metadata": {},
   "outputs": [],
   "source": [
    "save(\"estimations/experiment_integral_resolutions.jld\", \"d\", d)"
   ]
  },
  {
   "cell_type": "code",
   "execution_count": null,
   "metadata": {},
   "outputs": [],
   "source": [
    "for i in 1:4\n",
    "    resolution = integral_resolutions[i];\n",
    "    λ, Λ = ordered_eigendecomp(L);\n",
    "    println(\"With integral resolution $resolution, leading eigenvalue is $λ[1]\")\n",
    "end"
   ]
  },
  {
   "cell_type": "markdown",
   "metadata": {},
   "source": [
    "## Varying $\\epsilon$\n",
    "Varying the bandwidth of the basis functions however should have an effect, since this will by definition alter the structure of the subspace in which we are estimating $\\mathcal{L}$."
   ]
  },
  {
   "cell_type": "code",
   "execution_count": null,
   "metadata": {},
   "outputs": [],
   "source": [
    "epsilons = [0.01, 0.1, 0.5, 1, 10];\n",
    "results = [];\n",
    "for epsilon in epsilons\n",
    "    L = estimate_L(state_space, 5000, S, φ, epsilon, 40, 100);\n",
    "    push!(results, L);\n",
    "    println(\"Estimation complete for: $epsilon\")\n",
    "end"
   ]
  },
  {
   "cell_type": "code",
   "execution_count": null,
   "metadata": {},
   "outputs": [],
   "source": [
    "d = Dict(\n",
    "    \"results\"=>results, \n",
    "    \"epsilons\"=>epsilons,\n",
    ");"
   ]
  },
  {
   "cell_type": "code",
   "execution_count": null,
   "metadata": {},
   "outputs": [],
   "source": [
    "save(\"estimations/experiment_epsilons.jld\", \"d\", d)"
   ]
  },
  {
   "cell_type": "code",
   "execution_count": null,
   "metadata": {},
   "outputs": [],
   "source": [
    "for i in 1:4\n",
    "    sample_size = sample_sizes[i];\n",
    "    on = opnorm(results[i]);\n",
    "    println(\"With sample size $sample_size, opnorm is $on\")\n",
    "end"
   ]
  },
  {
   "cell_type": "markdown",
   "metadata": {},
   "source": [
    "Clearly the results show that..."
   ]
  },
  {
   "cell_type": "markdown",
   "metadata": {},
   "source": [
    "## Varying the dynamical map\n",
    "I will try three different maps:\n",
    "1. The standard map. This is known to have Lebesgue measure as the invariant density.\n",
    "2. The cat map. This too should have a constant function as its invariant density.\n",
    "3. The perturbed cat map. Even by perturbing the cat map only slightly, we should here obtain a non-constant function as the invariant density."
   ]
  },
  {
   "cell_type": "code",
   "execution_count": null,
   "metadata": {},
   "outputs": [],
   "source": []
  }
 ],
 "metadata": {
  "kernelspec": {
   "display_name": "Julia 1.6.1",
   "language": "julia",
   "name": "julia-1.6"
  },
  "language_info": {
   "file_extension": ".jl",
   "mimetype": "application/julia",
   "name": "julia",
   "version": "1.6.1"
  }
 },
 "nbformat": 4,
 "nbformat_minor": 4
}
