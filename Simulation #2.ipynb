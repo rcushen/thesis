{
 "cells": [
  {
   "cell_type": "markdown",
   "metadata": {},
   "source": [
    "# Simulation #2\n",
    "Having written the functions required to implement estimation of $T$, we now experiment with a few different model parameters."
   ]
  },
  {
   "cell_type": "code",
   "execution_count": 1,
   "metadata": {},
   "outputs": [],
   "source": [
    "using JLD"
   ]
  },
  {
   "cell_type": "code",
   "execution_count": 53,
   "metadata": {},
   "outputs": [],
   "source": [
    "include(\"functions.jl\");"
   ]
  },
  {
   "cell_type": "markdown",
   "metadata": {},
   "source": [
    "## The setup\n",
    "As before, we set up the state space as the flat torus $\\mathbb{T}^2$, represented by the square $[0, 2\\pi] \\times [0, 2\\pi]$."
   ]
  },
  {
   "cell_type": "code",
   "execution_count": null,
   "metadata": {},
   "outputs": [],
   "source": [
    "range = 2π;"
   ]
  },
  {
   "cell_type": "code",
   "execution_count": 48,
   "metadata": {},
   "outputs": [],
   "source": [
    "grid_size = 100;\n",
    "n_gridpoints = grid_size ^ 2;\n",
    "grid = creategrid(0, range, grid_size);"
   ]
  },
  {
   "cell_type": "markdown",
   "metadata": {},
   "source": [
    "Throughout all of our experiments, we will use the same sample of $N=10000$ points drawn from the uniform distribution."
   ]
  },
  {
   "cell_type": "code",
   "execution_count": 49,
   "metadata": {},
   "outputs": [],
   "source": [
    "sample_size = 10000;\n",
    "s = sampledist(sample_size, range);"
   ]
  },
  {
   "cell_type": "markdown",
   "metadata": {},
   "source": [
    "## Experimentation\n",
    "We can now run various experiments using different model parameters."
   ]
  },
  {
   "cell_type": "code",
   "execution_count": 52,
   "metadata": {},
   "outputs": [],
   "source": [
    "maps = [\"standard\", \"cat\", \"cat-perturbed\"];\n",
    "epsilons = [0.01, 0.1, 1, 10];\n",
    "n_bases = [5, 10, 25, 33];"
   ]
  },
  {
   "cell_type": "code",
   "execution_count": null,
   "metadata": {},
   "outputs": [],
   "source": [
    "estimate_T(grid, s, basis_grid_size, ϵ; map_type)"
   ]
  },
  {
   "cell_type": "code",
   "execution_count": null,
   "metadata": {},
   "outputs": [],
   "source": []
  },
  {
   "cell_type": "code",
   "execution_count": null,
   "metadata": {},
   "outputs": [],
   "source": []
  },
  {
   "cell_type": "code",
   "execution_count": null,
   "metadata": {},
   "outputs": [],
   "source": []
  },
  {
   "cell_type": "code",
   "execution_count": null,
   "metadata": {},
   "outputs": [],
   "source": []
  },
  {
   "cell_type": "markdown",
   "metadata": {},
   "source": [
    "## Varying the integral resolution\n",
    "As an initial test, I don't expect that varying the resolution of the integral calculations should have a significant effect on the calculation of $T$."
   ]
  },
  {
   "cell_type": "code",
   "execution_count": 8,
   "metadata": {},
   "outputs": [
    {
     "name": "stdout",
     "output_type": "stream",
     "text": [
      "Academic license - for non-commercial use only - expires 2021-08-05\n",
      "Gurobi Optimizer version 9.1.2 build v9.1.2rc0 (mac64)\n",
      "Thread count: 2 physical cores, 4 logical processors, using up to 4 threads\n",
      "Optimize a model with 25 rows, 10025 columns and 250025 nonzeros\n",
      "Model fingerprint: 0xeb1c6616\n",
      "Model has 10025 quadratic objective terms\n",
      "Coefficient statistics:\n",
      "  Matrix range     [3e-11, 1e+00]\n",
      "  Objective range  [3e-02, 3e-02]\n",
      "  QObjective range [2e-02, 2e+00]\n",
      "  Bounds range     [0e+00, 0e+00]\n",
      "  RHS range        [3e+00, 3e+00]\n",
      "Presolve time: 0.05s\n",
      "Presolved: 25 rows, 10025 columns, 250025 nonzeros\n",
      "Presolved model has 10025 quadratic objective terms\n",
      "Ordering time: 0.00s\n",
      "\n",
      "Barrier statistics:\n",
      " AA' NZ     : 3.000e+02\n",
      " Factor NZ  : 3.250e+02 (roughly 4 MBytes of memory)\n",
      " Factor Ops : 5.525e+03 (less than 1 second per iteration)\n",
      " Threads    : 2\n",
      "\n",
      "                  Objective                Residual\n",
      "Iter       Primal          Dual         Primal    Dual     Compl     Time\n",
      "   0   1.60492339e+09 -1.60624958e+09  6.71e+05 0.00e+00  1.00e+06     0s\n",
      "   1   2.17084585e+06 -2.21447247e+06  3.64e+03 0.00e+00  5.85e+03     0s\n",
      "   2   4.68815354e+05 -4.85816167e+05  3.64e-03 0.00e+00  9.52e+01     0s\n",
      "   3   6.68723635e+04 -7.29736826e+04  3.64e-09 0.00e+00  1.39e+01     0s\n",
      "   4   9.26652735e+03 -1.11975737e+04  9.19e-14 3.28e-13  2.04e+00     0s\n",
      "   5   1.31708022e+03 -1.65649633e+03  3.55e-14 1.63e-13  2.97e-01     0s\n",
      "   6   3.34967126e+02 -7.69197677e+01  1.31e-14 4.55e-14  4.11e-02     0s\n",
      "   7   2.50235230e+02  2.08789941e+02  1.60e-14 1.27e-14  4.13e-03     0s\n",
      "   8   2.48115659e+02  2.47483499e+02  7.22e-15 2.94e-15  6.31e-05     0s\n",
      "   9   2.48113446e+02  2.48078829e+02  5.33e-15 4.44e-16  3.45e-06     0s\n",
      "  10   2.48105890e+02  2.48092828e+02  7.99e-15 4.44e-16  1.30e-06     0s\n",
      "  11   2.48103005e+02  2.48102086e+02  7.88e-15 4.44e-16  9.18e-08     0s\n",
      "  12   2.48102362e+02  2.48102314e+02  6.77e-15 4.44e-16  4.85e-09     0s\n",
      "  13   2.48102325e+02  2.48102324e+02  4.77e-15 4.44e-16  1.08e-10     0s\n",
      "  14   2.48102325e+02  2.48102325e+02  7.99e-15 4.44e-16  5.09e-12     0s\n",
      "  15   2.48102325e+02  2.48102325e+02  5.00e-15 4.44e-16  2.81e-13     0s\n",
      "\n",
      "Barrier solved model in 15 iterations and 0.13 seconds\n",
      "Optimal objective 2.48102325e+02\n",
      "\n",
      "\n",
      "User-callback calls 84, time in user-callback 0.00 sec\n",
      "Objective value is: 248.10232467597103\n",
      "Estimation complete for: 100\n",
      "Academic license - for non-commercial use only - expires 2021-08-05\n",
      "Gurobi Optimizer version 9.1.2 build v9.1.2rc0 (mac64)\n",
      "Thread count: 2 physical cores, 4 logical processors, using up to 4 threads\n",
      "Optimize a model with 25 rows, 10025 columns and 250025 nonzeros\n",
      "Model fingerprint: 0x748c816b\n",
      "Model has 10025 quadratic objective terms\n",
      "Coefficient statistics:\n",
      "  Matrix range     [3e-11, 1e+00]\n",
      "  Objective range  [3e-02, 3e-02]\n",
      "  QObjective range [2e-02, 2e+00]\n",
      "  Bounds range     [0e+00, 0e+00]\n",
      "  RHS range        [3e+00, 3e+00]\n",
      "Presolve time: 0.05s\n",
      "Presolved: 25 rows, 10025 columns, 250025 nonzeros\n",
      "Presolved model has 10025 quadratic objective terms\n",
      "Ordering time: 0.00s\n",
      "\n",
      "Barrier statistics:\n",
      " AA' NZ     : 3.000e+02\n",
      " Factor NZ  : 3.250e+02 (roughly 4 MBytes of memory)\n",
      " Factor Ops : 5.525e+03 (less than 1 second per iteration)\n",
      " Threads    : 2\n",
      "\n",
      "                  Objective                Residual\n",
      "Iter       Primal          Dual         Primal    Dual     Compl     Time\n",
      "   0   1.60492339e+09 -1.60624958e+09  6.64e+05 0.00e+00  1.00e+06     0s\n",
      "   1   2.17240261e+06 -2.21611982e+06  3.65e+03 0.00e+00  5.92e+03     0s\n",
      "   2   4.69068138e+05 -4.86073685e+05  3.65e-03 0.00e+00  9.53e+01     0s\n",
      "   3   6.69088533e+04 -7.30119879e+04  3.65e-09 0.00e+00  1.40e+01     0s\n",
      "   4   9.27165393e+03 -1.12033963e+04  1.06e-13 2.87e-13  2.04e+00     0s\n",
      "   5   1.31774877e+03 -1.65743061e+03  5.02e-14 1.42e-13  2.97e-01     0s\n",
      "   6   3.35035494e+02 -7.70855874e+01  1.87e-14 4.32e-14  4.11e-02     0s\n",
      "   7   2.50237702e+02  2.08760770e+02  1.14e-14 1.17e-14  4.14e-03     0s\n",
      "   8   2.48115376e+02  2.47482239e+02  5.55e-15 3.17e-15  6.32e-05     0s\n",
      "   9   2.48113118e+02  2.48079623e+02  1.29e-14 4.44e-16  3.34e-06     0s\n",
      "  10   2.48105483e+02  2.48092492e+02  8.77e-15 4.44e-16  1.30e-06     0s\n",
      "  11   2.48102680e+02  2.48101742e+02  5.33e-15 4.44e-16  9.36e-08     0s\n",
      "  12   2.48102033e+02  2.48101980e+02  6.00e-15 4.44e-16  5.22e-09     0s\n",
      "  13   2.48101994e+02  2.48101992e+02  5.88e-15 4.44e-16  1.43e-10     0s\n",
      "  14   2.48101993e+02  2.48101992e+02  6.22e-15 4.44e-16  6.55e-12     0s\n",
      "  15   2.48101993e+02  2.48101993e+02  5.77e-15 4.44e-16  3.15e-13     0s\n",
      "\n",
      "Barrier solved model in 15 iterations and 0.13 seconds\n",
      "Optimal objective 2.48101993e+02\n",
      "\n",
      "\n",
      "User-callback calls 84, time in user-callback 0.00 sec\n",
      "Objective value is: 248.1019925278706\n",
      "Estimation complete for: 200\n",
      "Academic license - for non-commercial use only - expires 2021-08-05\n",
      "Gurobi Optimizer version 9.1.2 build v9.1.2rc0 (mac64)\n",
      "Thread count: 2 physical cores, 4 logical processors, using up to 4 threads\n",
      "Optimize a model with 25 rows, 10025 columns and 250025 nonzeros\n",
      "Model fingerprint: 0x4b7b9933\n",
      "Model has 10025 quadratic objective terms\n",
      "Coefficient statistics:\n",
      "  Matrix range     [3e-11, 1e+00]\n",
      "  Objective range  [3e-02, 3e-02]\n",
      "  QObjective range [2e-02, 2e+00]\n",
      "  Bounds range     [0e+00, 0e+00]\n",
      "  RHS range        [3e+00, 3e+00]\n",
      "Presolve time: 0.04s\n",
      "Presolved: 25 rows, 10025 columns, 250025 nonzeros\n",
      "Presolved model has 10025 quadratic objective terms\n",
      "Ordering time: 0.00s\n",
      "\n",
      "Barrier statistics:\n",
      " AA' NZ     : 3.000e+02\n",
      " Factor NZ  : 3.250e+02 (roughly 4 MBytes of memory)\n",
      " Factor Ops : 5.525e+03 (less than 1 second per iteration)\n",
      " Threads    : 2\n",
      "\n",
      "                  Objective                Residual\n",
      "Iter       Primal          Dual         Primal    Dual     Compl     Time\n",
      "   0   1.60492339e+09 -1.60624958e+09  6.74e+05 0.00e+00  1.00e+06     0s\n",
      "   1   2.17300673e+06 -2.21675744e+06  3.73e+03 0.00e+00  5.94e+03     0s\n",
      "   2   4.69106641e+05 -4.86112904e+05  3.73e-03 0.00e+00  9.53e+01     0s\n",
      "   3   6.69144365e+04 -7.30178455e+04  3.73e-09 0.00e+00  1.40e+01     0s\n",
      "   4   9.27244086e+03 -1.12042878e+04  1.42e-13 3.97e-13  2.04e+00     0s\n",
      "   5   1.31785211e+03 -1.65757340e+03  4.40e-14 1.47e-13  2.97e-01     0s\n",
      "   6   3.35046348e+02 -7.71107054e+01  1.82e-14 3.88e-14  4.11e-02     0s\n",
      "   7   2.50238184e+02  2.08756358e+02  1.08e-14 1.47e-14  4.14e-03     0s\n",
      "   8   2.48115424e+02  2.47482114e+02  5.66e-15 3.57e-15  6.32e-05     0s\n",
      "   9   2.48113160e+02  2.48077929e+02  6.66e-15 4.44e-16  3.51e-06     0s\n",
      "  10   2.48105608e+02  2.48091997e+02  9.66e-15 4.44e-16  1.36e-06     0s\n",
      "  11   2.48102642e+02  2.48101677e+02  5.44e-15 4.44e-16  9.63e-08     0s\n",
      "  12   2.48101973e+02  2.48101924e+02  5.55e-15 4.44e-16  4.91e-09     0s\n",
      "  13   2.48101935e+02  2.48101934e+02  6.00e-15 4.44e-16  1.12e-10     0s\n",
      "  14   2.48101935e+02  2.48101935e+02  6.99e-15 4.44e-16  4.51e-12     0s\n",
      "  15   2.48101935e+02  2.48101935e+02  6.66e-15 4.44e-16  2.12e-13     0s\n",
      "\n",
      "Barrier solved model in 15 iterations and 0.12 seconds\n",
      "Optimal objective 2.48101935e+02\n",
      "\n",
      "\n",
      "User-callback calls 84, time in user-callback 0.00 sec\n",
      "Objective value is: 248.10193472524352\n",
      "Estimation complete for: 500\n",
      "Academic license - for non-commercial use only - expires 2021-08-05\n",
      "Gurobi Optimizer version 9.1.2 build v9.1.2rc0 (mac64)\n",
      "Thread count: 2 physical cores, 4 logical processors, using up to 4 threads\n",
      "Optimize a model with 25 rows, 10025 columns and 250025 nonzeros\n",
      "Model fingerprint: 0xc8d57851\n",
      "Model has 10025 quadratic objective terms\n",
      "Coefficient statistics:\n",
      "  Matrix range     [3e-11, 1e+00]\n",
      "  Objective range  [3e-02, 3e-02]\n",
      "  QObjective range [2e-02, 2e+00]\n",
      "  Bounds range     [0e+00, 0e+00]\n",
      "  RHS range        [3e+00, 3e+00]\n",
      "Presolve time: 0.04s\n",
      "Presolved: 25 rows, 10025 columns, 250025 nonzeros\n",
      "Presolved model has 10025 quadratic objective terms\n",
      "Ordering time: 0.00s\n",
      "\n",
      "Barrier statistics:\n",
      " AA' NZ     : 3.000e+02\n",
      " Factor NZ  : 3.250e+02 (roughly 4 MBytes of memory)\n",
      " Factor Ops : 5.525e+03 (less than 1 second per iteration)\n",
      " Threads    : 2\n",
      "\n",
      "                  Objective                Residual\n",
      "Iter       Primal          Dual         Primal    Dual     Compl     Time\n",
      "   0   1.60492339e+09 -1.60624958e+09  6.78e+05 0.00e+00  1.00e+06     0s\n",
      "   1   2.17299370e+06 -2.21675335e+06  3.75e+03 0.00e+00  5.95e+03     0s\n",
      "   2   4.69156139e+05 -4.86163326e+05  3.75e-03 0.00e+00  9.53e+01     0s\n",
      "   3   6.69215811e+04 -7.30253444e+04  3.75e-09 0.00e+00  1.40e+01     0s\n",
      "   4   9.27344523e+03 -1.12054280e+04  9.46e-14 2.96e-13  2.04e+00     0s\n",
      "   5   1.31798325e+03 -1.65775631e+03  5.86e-14 1.49e-13  2.97e-01     0s\n",
      "   6   3.35059810e+02 -7.71431244e+01  2.86e-14 3.72e-14  4.11e-02     0s\n",
      "   7   2.50238628e+02  2.08750621e+02  9.66e-15 1.33e-14  4.14e-03     0s\n",
      "   8   2.48115350e+02  2.47481796e+02  7.66e-15 3.14e-15  6.32e-05     0s\n",
      "   9   2.48113157e+02  2.48077166e+02  9.21e-15 4.44e-16  3.59e-06     0s\n",
      "  10   2.48105672e+02  2.48092352e+02  5.22e-15 4.44e-16  1.33e-06     0s\n",
      "  11   2.48102729e+02  2.48101777e+02  7.55e-15 4.44e-16  9.50e-08     0s\n",
      "  12   2.48102069e+02  2.48102020e+02  5.11e-15 4.44e-16  4.95e-09     0s\n",
      "  13   2.48102031e+02  2.48102030e+02  4.55e-15 4.44e-16  1.12e-10     0s\n",
      "  14   2.48102031e+02  2.48102031e+02  8.66e-15 4.44e-16  4.80e-12     0s\n",
      "  15   2.48102031e+02  2.48102031e+02  5.44e-15 4.44e-16  2.31e-13     0s\n",
      "\n",
      "Barrier solved model in 15 iterations and 0.12 seconds\n",
      "Optimal objective 2.48102031e+02\n",
      "\n",
      "\n",
      "User-callback calls 84, time in user-callback 0.00 sec\n"
     ]
    },
    {
     "name": "stdout",
     "output_type": "stream",
     "text": [
      "Objective value is: 248.10203063778903\n",
      "Estimation complete for: 1000\n"
     ]
    }
   ],
   "source": [
    "integral_resolutions = [100, 200, 500, 1000];\n",
    "results = [];\n",
    "for res in integral_resolutions\n",
    "    T = estimate_T(state_space, 10000, S, φ, 0.9, 5, res);\n",
    "    push!(results, T);\n",
    "    println(\"Estimation complete for: $res\")\n",
    "end"
   ]
  },
  {
   "cell_type": "code",
   "execution_count": 11,
   "metadata": {},
   "outputs": [],
   "source": [
    "d = Dict(\n",
    "    \"results\"=>results, \n",
    "    \"integral_resolutions\"=>integral_resolutions,\n",
    "    \"n_bases\"=>5^2,\n",
    "    \"sample_size\"=>10000,\n",
    "    \"epsilon\"=>0.9,\n",
    "    \"S\"=>\"standard\"\n",
    ");"
   ]
  },
  {
   "cell_type": "code",
   "execution_count": 12,
   "metadata": {},
   "outputs": [],
   "source": [
    "save(\"estimations/experiment_integral_resolutions.jld\", \"d\", d)"
   ]
  },
  {
   "cell_type": "code",
   "execution_count": 15,
   "metadata": {},
   "outputs": [
    {
     "name": "stdout",
     "output_type": "stream",
     "text": [
      "With integral resolution 100, leading eigenvalue is 1.0038743696260968 + 0.0im\n",
      "With integral resolution 200, leading eigenvalue is 1.0038752431912221 + 0.0im\n",
      "With integral resolution 500, leading eigenvalue is 1.0038755363842837 + 0.0im\n",
      "With integral resolution 1000, leading eigenvalue is 1.0038754057411512 + 0.0im\n"
     ]
    }
   ],
   "source": [
    "for i in 1:4\n",
    "    resolution = integral_resolutions[i];\n",
    "    λ, Λ = ordered_eigendecomp(results[i]);\n",
    "    println(\"With integral resolution $resolution, leading eigenvalue is: $(λ[1])\")\n",
    "end"
   ]
  },
  {
   "cell_type": "markdown",
   "metadata": {},
   "source": [
    "Clearly, varying the integral resolution has not affected the integrity of the estimation procedure. What about the estimate of the invariant density?"
   ]
  },
  {
   "cell_type": "code",
   "execution_count": 31,
   "metadata": {},
   "outputs": [
    {
     "name": "stdout",
     "output_type": "stream",
     "text": [
      "With integral resolution 100, leading eigenvector is:\n",
      "ComplexF64[-0.19999896176010518 + 0.0im, -0.20000197086113408 + 0.0im, -0.19999569775471018 + 0.0im, -0.20000110003804084 + 0.0im, -0.19999932879284368 + 0.0im, -0.20000102906570572 + 0.0im, -0.20000028013626053 + 0.0im, -0.20000157240545194 + 0.0im, -0.20000231733741577 + 0.0im, -0.19999716542444523 + 0.0im, -0.19999723194306132 + 0.0im, -0.1999988250519022 + 0.0im, -0.200003244530273 + 0.0im, -0.19999594969310305 + 0.0im, -0.20000537917865047 + 0.0im, -0.20000136208533922 + 0.0im, -0.20000073924641526 + 0.0im, -0.19999712949005974 + 0.0im, -0.20000273932369675 + 0.0im, -0.19999854482808124 + 0.0im, -0.19999880468987752 + 0.0im, -0.19999991112462923 + 0.0im, -0.20000337598341675 + 0.0im, -0.19999841193429813 + 0.0im, -0.19999892696151506 + 0.0im]\n",
      "With integral resolution 200, leading eigenvector is:\n",
      "ComplexF64[0.19999850038855338 + 0.0im, 0.20000015568423318 + 0.0im, 0.20000322767852946 + 0.0im, 0.1999976905395623 + 0.0im, 0.20000000623955466 + 0.0im, 0.20000157567776894 + 0.0im, 0.19999877370783684 + 0.0im, 0.19999986414035512 + 0.0im, 0.19999847608424487 + 0.0im, 0.20000040357013918 + 0.0im, 0.20000008173188563 + 0.0im, 0.19999953900167192 + 0.0im, 0.1999996799668579 + 0.0im, 0.20000019264141375 + 0.0im, 0.2000005133466623 + 0.0im, 0.20000022757076333 + 0.0im, 0.20000181255453747 + 0.0im, 0.19999956431452812 + 0.0im, 0.19999986540075812 + 0.0im, 0.20000041770470944 + 0.0im, 0.19999747648569943 + 0.0im, 0.20000282906391056 + 0.0im, 0.19999857267354118 + 0.0im, 0.20000028837531944 + 0.0im, 0.2000002653434157 + 0.0im]\n",
      "With integral resolution 500, leading eigenvector is:\n",
      "ComplexF64[0.19999833572249426 + 0.0im, 0.1999992205991206 + 0.0im, 0.1999986337047971 + 0.0im, 0.2000005521075646 + 0.0im, 0.20000204723985637 + 0.0im, 0.20000095085022007 + 0.0im, 0.19999937577620477 + 0.0im, 0.19999921059651501 + 0.0im, 0.2000040104836583 + 0.0im, 0.19999931191891454 + 0.0im, 0.19999960845636172 + 0.0im, 0.1999984017013262 + 0.0im, 0.20000286816929314 + 0.0im, 0.19999450299138052 + 0.0im, 0.20000137955560865 + 0.0im, 0.19999999425018447 + 0.0im, 0.20000096750284385 + 0.0im, 0.19999713997930654 + 0.0im, 0.20000430122198426 + 0.0im, 0.19999742982718438 + 0.0im, 0.20000168897541531 + 0.0im, 0.1999960563216234 + 0.0im, 0.20000476723388044 + 0.0im, 0.1999979230574006 + 0.0im, 0.200001321375155 + 0.0im]\n",
      "With integral resolution 1000, leading eigenvector is:\n",
      "ComplexF64[0.19999962465502263 + 0.0im, 0.20000013851867493 + 0.0im, 0.19999777046705988 + 0.0im, 0.20000235803636274 + 0.0im, 0.1999976130479042 + 0.0im, 0.19999905120707065 + 0.0im, 0.20000034052218876 + 0.0im, 0.20000213780360976 + 0.0im, 0.19999825277239164 + 0.0im, 0.19999903973405658 + 0.0im, 0.20000174908363308 + 0.0im, 0.19999895683422883 + 0.0im, 0.20000121267342466 + 0.0im, 0.19999582160063145 + 0.0im, 0.20000382096359473 + 0.0im, 0.19999780402305584 + 0.0im, 0.20000248291264602 + 0.0im, 0.1999983767592929 + 0.0im, 0.20000212737720674 + 0.0im, 0.19999923094876346 + 0.0im, 0.2000020058665578 + 0.0im, 0.19999755670214903 + 0.0im, 0.20000192634586095 + 0.0im, 0.19999840365775184 + 0.0im, 0.20000219722824555 + 0.0im]\n"
     ]
    }
   ],
   "source": [
    "for i in 1:4\n",
    "    resolution = integral_resolutions[i];\n",
    "    λ, Λ = ordered_eigendecomp(results[i]);\n",
    "    println(\"With integral resolution $resolution, leading eigenvector is:\")\n",
    "    println(Λ[:,1])\n",
    "end"
   ]
  },
  {
   "cell_type": "markdown",
   "metadata": {},
   "source": [
    "They are all almost the same. This is an encouraging validition of the integrity of our estimation procedure."
   ]
  },
  {
   "cell_type": "markdown",
   "metadata": {},
   "source": [
    "## Varying $\\epsilon$\n",
    "Varying the bandwidth of the basis functions however should have an effect, since this will by definition alter the structure of the subspace in which we are estimating $\\mathcal{L}$."
   ]
  },
  {
   "cell_type": "code",
   "execution_count": 37,
   "metadata": {},
   "outputs": [
    {
     "name": "stdout",
     "output_type": "stream",
     "text": [
      "Academic license - for non-commercial use only - expires 2021-08-05\n",
      "Warning for adding constraints: zero or small (< 1e-13) coefficients, ignored\n",
      "Gurobi Optimizer version 9.1.2 build v9.1.2rc0 (mac64)\n",
      "Thread count: 2 physical cores, 4 logical processors, using up to 4 threads\n",
      "Optimize a model with 1089 rows, 11089 columns and 3629 nonzeros\n",
      "Model fingerprint: 0x8cd1e90b\n",
      "Model has 11089 quadratic objective terms\n",
      "Coefficient statistics:\n",
      "  Matrix range     [1e-13, 1e+00]\n",
      "  Objective range  [7e-04, 7e-04]\n",
      "  QObjective range [2e-02, 2e+00]\n",
      "  Bounds range     [0e+00, 0e+00]\n",
      "  RHS range        [3e-04, 3e-04]\n",
      "Presolve removed 118 rows and 7578 columns\n",
      "Presolve time: 0.01s\n",
      "Presolved: 971 rows, 3511 columns, 3511 nonzeros\n",
      "Presolved model has 3511 quadratic objective terms\n",
      "Ordering time: 0.00s\n",
      "\n",
      "Barrier statistics:\n",
      " AA' NZ     : 0.000e+00\n",
      " Factor NZ  : 9.710e+02 (roughly 2 MBytes of memory)\n",
      " Factor Ops : 9.710e+02 (less than 1 second per iteration)\n",
      " Threads    : 1\n",
      "\n",
      "                  Objective                Residual\n",
      "Iter       Primal          Dual         Primal    Dual     Compl     Time\n",
      "   0   6.49142088e+08 -6.49150730e+08  2.26e+03 0.00e+00  1.00e+06     0s\n",
      "   1   1.89793095e+08 -1.89799264e+08  9.26e+01 0.00e+00  1.30e+05     0s\n",
      "   2   2.94415461e+07 -2.94447175e+07  3.50e-01 0.00e+00  1.68e+04     0s\n",
      "   3   4.35141417e+06 -4.35439280e+06  1.24e-03 0.00e+00  2.48e+03     0s\n",
      "   4   6.35298826e+05 -6.44484934e+05  1.24e-09 0.00e+00  3.65e+02     0s\n",
      "   5   9.26159721e+04 -9.46448585e+04  9.28e-15 4.33e-12  5.33e+01     0s\n",
      "   6   1.34764485e+04 -1.38496781e+04  4.93e-15 9.49e-13  7.78e+00     0s\n",
      "   7   1.95533761e+03 -2.02808347e+03  1.73e-15 1.11e-13  1.13e+00     0s\n",
      "   8   2.82130569e+02 -2.97837877e+02  4.66e-16 1.96e-14  1.65e-01     0s\n",
      "   9   4.02116205e+01 -4.40997110e+01  1.73e-16 2.97e-15  2.40e-02     0s\n",
      "  10   5.56512328e+00 -6.66585286e+00  6.77e-17 5.62e-16  3.48e-03     0s\n",
      "  11   7.15686191e-01 -1.05061758e+00  2.69e-17 1.12e-16  5.03e-04     0s\n",
      "  12   7.72766905e-02 -1.72747778e-01  1.21e-17 2.40e-17  7.12e-05     0s\n",
      "  13   7.11106733e-03 -2.43498801e-02  4.34e-18 1.06e-17  8.96e-06     0s\n",
      "  14   2.67719148e-03  6.64328214e-04  4.34e-18 5.15e-18  5.73e-07     0s\n",
      "  15   2.57520324e-03  2.53771664e-03  1.73e-18 3.25e-18  1.07e-08     0s\n",
      "  16   2.57148160e-03  2.57055616e-03  1.73e-18 3.86e-18  2.64e-10     0s\n",
      "  17   2.57129968e-03  2.57128191e-03  1.73e-18 1.36e-18  5.06e-12     0s\n",
      "  18   2.57129001e-03  2.57128930e-03  1.73e-18 8.67e-19  2.02e-13     0s\n",
      "\n",
      "Barrier solved model in 18 iterations and 0.02 seconds\n",
      "Optimal objective 2.57129001e-03\n",
      "\n",
      "\n",
      "User-callback calls 75, time in user-callback 0.00 sec\n",
      "Objective value is: 0.0025712900116408137\n",
      "Estimation complete for ϵ=0.01\n",
      "Academic license - for non-commercial use only - expires 2021-08-05\n",
      "Warning for adding constraints: zero or small (< 1e-13) coefficients, ignored\n",
      "Gurobi Optimizer version 9.1.2 build v9.1.2rc0 (mac64)\n",
      "Thread count: 2 physical cores, 4 logical processors, using up to 4 threads\n",
      "Optimize a model with 1089 rows, 11089 columns and 260602 nonzeros\n",
      "Model fingerprint: 0x4d3abfa9\n",
      "Model has 11089 quadratic objective terms\n",
      "Coefficient statistics:\n",
      "  Matrix range     [1e-13, 1e+00]\n",
      "  Objective range  [7e-04, 7e-04]\n",
      "  QObjective range [2e-02, 2e+00]\n",
      "  Bounds range     [0e+00, 0e+00]\n",
      "  RHS range        [3e-02, 3e-02]\n",
      "Presolve time: 0.08s\n",
      "Presolved: 1089 rows, 11089 columns, 260602 nonzeros\n",
      "Presolved model has 11089 quadratic objective terms\n",
      "Ordering time: 0.02s\n",
      "\n",
      "Barrier statistics:\n",
      " AA' NZ     : 5.316e+04\n",
      " Factor NZ  : 2.934e+05 (roughly 7 MBytes of memory)\n",
      " Factor Ops : 9.490e+07 (less than 1 second per iteration)\n",
      " Threads    : 2\n",
      "\n",
      "                  Objective                Residual\n",
      "Iter       Primal          Dual         Primal    Dual     Compl     Time\n",
      "   0   1.87218556e+09 -1.87224990e+09  1.89e+04 0.00e+00  1.00e+06     0s\n",
      "   1   1.22246136e+08 -1.22270400e+08  6.20e+02 0.00e+00  5.15e+04     0s\n",
      "   2   2.89478343e+07 -2.89592470e+07  6.20e-04 0.00e+00  5.22e+03     0s\n",
      "   3   4.23991583e+06 -4.24428114e+06  6.20e-10 0.00e+00  7.65e+02     0s\n",
      "   4   6.20687813e+05 -6.22357012e+05  5.79e-14 2.91e-13  1.12e+02     0s\n",
      "   5   9.07419207e+04 -9.13796804e+04  3.13e-14 1.30e-13  1.64e+01     0s\n",
      "   6   1.32198567e+04 -1.34630229e+04  9.12e-15 4.10e-14  2.41e+00     0s\n",
      "   7   1.90848875e+03 -2.00069807e+03  3.09e-15 1.85e-14  3.53e-01     0s\n",
      "   8   2.69052556e+02 -3.03516195e+02  1.46e-15 7.61e-15  5.16e-02     0s\n",
      "   9   3.56645647e+01 -4.80520845e+01  4.61e-16 2.70e-15  7.55e-03     0s\n",
      "  10   4.05674645e+00 -8.03962148e+00  3.19e-16 1.01e-15  1.09e-03     0s\n",
      "  11   3.70497484e-01 -1.24261753e+00  1.04e-16 3.03e-16  1.45e-04     0s\n",
      "  12   1.07014464e-01 -1.34821119e-02  4.86e-17 1.11e-16  1.09e-05     0s\n",
      "  13   1.03395464e-01  9.87393742e-02  8.33e-17 1.79e-17  4.20e-07     0s\n",
      "  14   1.02999990e-01  1.02523178e-01  3.47e-17 6.94e-18  4.30e-08     0s\n",
      "  15   1.02888442e-01  1.02824325e-01  4.16e-17 6.94e-18  5.78e-09     0s\n",
      "  16   1.02871378e-01  1.02868101e-01  3.47e-17 6.94e-18  2.96e-10     0s\n",
      "  17   1.02870143e-01  1.02870055e-01  4.16e-17 6.94e-18  7.99e-12     0s\n",
      "  18   1.02870102e-01  1.02870097e-01  2.26e-17 6.94e-18  4.23e-13     0s\n",
      "\n",
      "Barrier solved model in 18 iterations and 0.47 seconds\n",
      "Optimal objective 1.02870102e-01\n",
      "\n",
      "\n",
      "User-callback calls 175, time in user-callback 0.00 sec\n",
      "Objective value is: 0.10287010154284654\n",
      "Estimation complete for ϵ=0.1\n",
      "Academic license - for non-commercial use only - expires 2021-08-05\n",
      "Gurobi Optimizer version 9.1.2 build v9.1.2rc0 (mac64)\n",
      "Thread count: 2 physical cores, 4 logical processors, using up to 4 threads\n",
      "Optimize a model with 1089 rows, 11089 columns and 10891089 nonzeros\n",
      "Model fingerprint: 0xa9d9cb98\n",
      "Model has 11089 quadratic objective terms\n",
      "Coefficient statistics:\n",
      "  Matrix range     [3e-09, 1e+00]\n",
      "  Objective range  [7e-04, 7e-04]\n",
      "  QObjective range [2e-02, 2e+00]\n",
      "  Bounds range     [0e+00, 0e+00]\n",
      "  RHS range        [3e+00, 3e+00]\n",
      "Presolve time: 3.74s\n",
      "Presolved: 1089 rows, 11089 columns, 10891089 nonzeros\n",
      "Presolved model has 11089 quadratic objective terms\n",
      "Ordering time: 0.01s\n",
      "\n",
      "Barrier statistics:\n",
      " AA' NZ     : 5.924e+05\n",
      " Factor NZ  : 5.935e+05 (roughly 10 MBytes of memory)\n",
      " Factor Ops : 4.311e+08 (less than 1 second per iteration)\n",
      " Threads    : 2\n",
      "\n",
      "                  Objective                Residual\n",
      "Iter       Primal          Dual         Primal    Dual     Compl     Time\n",
      "   0   1.86880607e+09 -1.87223922e+09  8.25e+05 0.00e+00  9.99e+05     5s\n",
      "   1   7.24143151e+07 -7.41810740e+07  7.74e+02 0.00e+00  1.41e+04     6s\n",
      "   2   1.01471819e+07 -1.08085289e+07  7.74e-04 0.00e+00  1.89e+03     6s\n",
      "   3   1.41101794e+06 -1.65761983e+06  7.74e-10 1.13e-11  2.77e+02     7s\n",
      "   4   1.79947737e+05 -2.68007838e+05  1.32e-13 8.35e-12  4.04e+01     8s\n",
      "   5   1.80635469e+04 -4.59615584e+04  4.88e-14 3.73e-12  5.77e+00     8s\n",
      "   6   8.83220029e+02 -7.05030092e+03  2.40e-14 1.78e-12  7.15e-01     9s\n",
      "   7   3.69358686e+00 -3.91378207e+02  1.41e-14 5.45e-13  3.56e-02     9s\n",
      "   8   1.12304358e-01 -6.00150076e+00  1.54e-14 5.19e-14  5.51e-04    10s\n",
      "   9   1.04542251e-01 -6.33907334e-01  1.54e-14 1.82e-15  6.66e-05    11s\n",
      "  10   1.04398825e-01  9.78678053e-02  1.17e-14 4.69e-16  5.89e-07    11s\n",
      "  11   1.04373580e-01  1.04293582e-01  1.17e-14 4.44e-16  7.21e-09    12s\n",
      "  12   1.04373338e-01  1.04373213e-01  1.17e-14 4.44e-16  1.13e-11    13s\n",
      "  13   1.04373338e-01  1.04373338e-01  1.08e-14 4.44e-16  1.13e-14    13s\n",
      "\n",
      "Barrier solved model in 13 iterations and 13.22 seconds\n",
      "Optimal objective 1.04373338e-01\n",
      "\n",
      "\n",
      "User-callback calls 394, time in user-callback 0.00 sec\n",
      "Objective value is: 0.1043733378207869\n",
      "Estimation complete for ϵ=1.0\n",
      "Academic license - for non-commercial use only - expires 2021-08-05\n",
      "Gurobi Optimizer version 9.1.2 build v9.1.2rc0 (mac64)\n",
      "Thread count: 2 physical cores, 4 logical processors, using up to 4 threads\n",
      "Optimize a model with 1089 rows, 11089 columns and 10891089 nonzeros\n",
      "Model fingerprint: 0x84b8d07d\n",
      "Model has 11089 quadratic objective terms\n",
      "Coefficient statistics:\n",
      "  Matrix range     [8e-01, 1e+00]\n",
      "  Objective range  [7e-04, 7e-04]\n",
      "  QObjective range [2e-02, 2e+00]\n",
      "  Bounds range     [0e+00, 0e+00]\n",
      "  RHS range        [3e+02, 3e+02]\n",
      "Presolve time: 3.90s\n",
      "Presolved: 1089 rows, 11089 columns, 10891089 nonzeros\n",
      "Presolved model has 11089 quadratic objective terms\n",
      "Ordering time: 0.01s\n",
      "\n",
      "Barrier statistics:\n",
      " AA' NZ     : 5.924e+05\n",
      " Factor NZ  : 5.935e+05 (roughly 10 MBytes of memory)\n",
      " Factor Ops : 4.311e+08 (less than 1 second per iteration)\n",
      " Threads    : 2\n",
      "\n",
      "                  Objective                Residual\n",
      "Iter       Primal          Dual         Primal    Dual     Compl     Time\n",
      "   0   1.63745407e+09 -1.76455423e+09  9.38e+06 0.00e+00  9.41e+05     5s\n",
      "   1   5.23172721e+06 -5.26979304e+07  9.40e+03 0.00e+00  6.14e+03     6s\n",
      "   2   1.06937448e+04 -2.15689685e+06  9.40e-03 0.00e+00  1.95e+02     7s\n",
      "   3   3.39299003e-01 -3.93881096e+03  8.01e-06 0.00e+00  3.55e-01     7s\n",
      "   4   1.86293665e-02 -7.45964205e+01  1.40e-07 0.00e+00  6.73e-03     8s\n",
      "   5   2.29873688e-03 -3.78835741e+00  4.39e-12 5.68e-14  3.42e-04     8s\n",
      "   6   1.79120333e-03 -4.74566278e-02  1.24e-12 5.68e-14  4.44e-06     9s\n",
      "   7   1.69255764e-03  1.57857866e-03  1.78e-12 5.68e-14  1.03e-08    10s\n",
      "   8   1.69246823e-03  1.69261725e-03  1.05e-12 5.68e-14  1.05e-11    10s\n",
      "   9   1.69273646e-03  1.69231922e-03  9.81e-13 5.68e-14  1.05e-14    11s\n",
      "\n",
      "Barrier solved model in 9 iterations and 10.89 seconds\n",
      "Optimal objective 1.69273646e-03\n",
      "\n",
      "\n",
      "User-callback calls 293, time in user-callback 0.00 sec\n"
     ]
    },
    {
     "name": "stdout",
     "output_type": "stream",
     "text": [
      "Objective value is: 0.0016927364556502122\n",
      "Estimation complete for ϵ=10.0\n"
     ]
    }
   ],
   "source": [
    "epsilons = [0.01, 0.1, 1, 10];\n",
    "results = [];\n",
    "for epsilon in epsilons\n",
    "    T = estimate_T(state_space, 10000, S, φ, epsilon, 33, 100);\n",
    "    push!(results, T);\n",
    "    println(\"Estimation complete for ϵ=$epsilon\")\n",
    "end"
   ]
  },
  {
   "cell_type": "code",
   "execution_count": 38,
   "metadata": {},
   "outputs": [],
   "source": [
    "d = Dict(\n",
    "    \"results\"=>results, \n",
    "    \"epsilons\"=>epsilons,\n",
    "    \"sample_size\"=>10000,\n",
    "    \"S\"=>\"standard\",\n",
    "    \"n_bases\"=>33^2\n",
    ");"
   ]
  },
  {
   "cell_type": "code",
   "execution_count": 39,
   "metadata": {},
   "outputs": [],
   "source": [
    "save(\"estimations/experiment_epsilons.jld\", \"d\", d)"
   ]
  },
  {
   "cell_type": "code",
   "execution_count": 41,
   "metadata": {},
   "outputs": [
    {
     "name": "stdout",
     "output_type": "stream",
     "text": [
      "With ϵ=0.01, leading eigenvalue is 0.014644405474734752 + 0.0im\n",
      "With ϵ=0.1, leading eigenvalue is 1.011694057314656 + 0.0im\n",
      "With ϵ=1.0, leading eigenvalue is 0.9999834162656183 + 0.0im\n",
      "With ϵ=10.0, leading eigenvalue is 0.1177627848554035 + 0.0im\n"
     ]
    }
   ],
   "source": [
    "for i in 1:4\n",
    "    epsilon = epsilons[i]\n",
    "    λ, Λ = ordered_eigendecomp(results[i]);\n",
    "    println(\"With ϵ=$epsilon, leading eigenvalue is $(λ[1])\")\n",
    "end"
   ]
  },
  {
   "cell_type": "markdown",
   "metadata": {},
   "source": [
    "For at least a range of one order of magnitude, we get a reliable estimation procedure."
   ]
  },
  {
   "cell_type": "markdown",
   "metadata": {},
   "source": [
    "## Varying the dynamical map\n",
    "I will try three different maps:\n",
    "1. The standard map. This is known to have Lebesgue measure as the invariant density.\n",
    "2. The cat map. This too should have a constant function as its invariant density.\n",
    "3. The perturbed cat map. Even by perturbing the cat map only slightly, we should here obtain a non-constant function as the invariant density."
   ]
  },
  {
   "cell_type": "code",
   "execution_count": 46,
   "metadata": {},
   "outputs": [
    {
     "name": "stdout",
     "output_type": "stream",
     "text": [
      "Academic license - for non-commercial use only - expires 2021-08-05\n",
      "Gurobi Optimizer version 9.1.2 build v9.1.2rc0 (mac64)\n",
      "Thread count: 2 physical cores, 4 logical processors, using up to 4 threads\n",
      "Optimize a model with 400 rows, 10400 columns and 4000400 nonzeros\n",
      "Model fingerprint: 0x09243d22\n",
      "Model has 10400 quadratic objective terms\n",
      "Coefficient statistics:\n",
      "  Matrix range     [3e-09, 1e+00]\n",
      "  Objective range  [2e-03, 2e-03]\n",
      "  QObjective range [2e-02, 2e+00]\n",
      "  Bounds range     [0e+00, 0e+00]\n",
      "  RHS range        [3e+00, 3e+00]\n",
      "Presolve time: 0.89s\n",
      "Presolved: 400 rows, 10400 columns, 4000400 nonzeros\n",
      "Presolved model has 10400 quadratic objective terms\n",
      "Ordering time: 0.00s\n",
      "\n",
      "Barrier statistics:\n",
      " AA' NZ     : 7.980e+04\n",
      " Factor NZ  : 8.020e+04 (roughly 5 MBytes of memory)\n",
      " Factor Ops : 2.141e+07 (less than 1 second per iteration)\n",
      " Threads    : 2\n",
      "\n",
      "                  Objective                Residual\n",
      "Iter       Primal          Dual         Primal    Dual     Compl     Time\n",
      "   0   1.69866670e+09 -1.69999604e+09  8.40e+05 0.00e+00  1.00e+06     1s\n",
      "   1   2.68089205e+07 -2.74604778e+07  7.89e+02 0.00e+00  6.13e+03     1s\n",
      "   2   3.80148805e+06 -4.04681020e+06  7.89e-04 0.00e+00  7.55e+02     1s\n",
      "   3   5.28882645e+05 -6.20380104e+05  7.88e-10 2.48e-12  1.11e+02     2s\n",
      "   4   6.75425739e+04 -1.00237060e+05  1.24e-13 2.42e-12  1.61e+01     2s\n",
      "   5   6.80742424e+03 -1.71843143e+04  4.84e-14 1.52e-12  2.31e+00     2s\n",
      "   6   3.37809759e+02 -2.64459852e+03  2.29e-14 5.96e-13  2.87e-01     2s\n",
      "   7   2.32464867e+00 -1.49113791e+02  1.29e-14 1.78e-13  1.46e-02     2s\n",
      "   8   8.99958263e-01 -9.11334923e-01  1.47e-14 1.18e-14  1.74e-04     2s\n",
      "   9   8.97776995e-01  8.39833892e-01  1.05e-14 4.44e-16  5.57e-06     2s\n",
      "  10   8.97739026e-01  8.96877228e-01  1.05e-14 4.44e-16  8.29e-08     2s\n",
      "  11   8.97736012e-01  8.97733165e-01  1.17e-14 4.44e-16  2.74e-10     2s\n",
      "  12   8.97736007e-01  8.97736004e-01  9.33e-15 4.44e-16  3.02e-13     2s\n",
      "\n",
      "Barrier solved model in 12 iterations and 2.44 seconds\n",
      "Optimal objective 8.97736007e-01\n",
      "\n",
      "\n",
      "User-callback calls 192, time in user-callback 0.00 sec\n",
      "Objective value is: 0.897736007384715\n"
     ]
    }
   ],
   "source": [
    "T_standard = estimate_T(state_space, 10000, S, φ, 1.0, 20, 100; map_type=\"standard\");"
   ]
  },
  {
   "cell_type": "code",
   "execution_count": 47,
   "metadata": {},
   "outputs": [
    {
     "name": "stdout",
     "output_type": "stream",
     "text": [
      "Academic license - for non-commercial use only - expires 2021-08-05\n",
      "Gurobi Optimizer version 9.1.2 build v9.1.2rc0 (mac64)\n",
      "Thread count: 2 physical cores, 4 logical processors, using up to 4 threads\n",
      "Optimize a model with 400 rows, 10400 columns and 4000400 nonzeros\n",
      "Model fingerprint: 0x62c02722\n",
      "Model has 10400 quadratic objective terms\n",
      "Coefficient statistics:\n",
      "  Matrix range     [3e-09, 1e+00]\n",
      "  Objective range  [2e-03, 2e-03]\n",
      "  QObjective range [2e-02, 2e+00]\n",
      "  Bounds range     [0e+00, 0e+00]\n",
      "  RHS range        [3e+00, 3e+00]\n",
      "Presolve time: 0.77s\n",
      "Presolved: 400 rows, 10400 columns, 4000400 nonzeros\n",
      "Presolved model has 10400 quadratic objective terms\n",
      "Ordering time: 0.00s\n",
      "\n",
      "Barrier statistics:\n",
      " AA' NZ     : 7.980e+04\n",
      " Factor NZ  : 8.020e+04 (roughly 5 MBytes of memory)\n",
      " Factor Ops : 2.141e+07 (less than 1 second per iteration)\n",
      " Threads    : 2\n",
      "\n",
      "                  Objective                Residual\n",
      "Iter       Primal          Dual         Primal    Dual     Compl     Time\n",
      "   0   1.69866670e+09 -1.69999604e+09  8.35e+05 0.00e+00  1.00e+06     1s\n",
      "   1   2.68088539e+07 -2.74604103e+07  7.83e+02 0.00e+00  6.13e+03     1s\n",
      "   2   3.80147805e+06 -4.04679989e+06  7.83e-04 0.00e+00  7.55e+02     1s\n",
      "   3   5.28880708e+05 -6.20378058e+05  7.83e-10 2.24e-12  1.11e+02     1s\n",
      "   4   6.75422622e+04 -1.00236728e+05  1.13e-13 2.51e-12  1.61e+01     2s\n",
      "   5   6.80737210e+03 -1.71842666e+04  4.95e-14 1.27e-12  2.31e+00     2s\n",
      "   6   3.37798633e+02 -2.64459499e+03  2.09e-14 5.62e-13  2.87e-01     2s\n",
      "   7   2.32241181e+00 -1.49112700e+02  1.33e-14 1.78e-13  1.46e-02     2s\n",
      "   8   8.99626409e-01 -5.55472555e-01  1.11e-14 1.19e-14  1.40e-04     2s\n",
      "   9   8.97773880e-01  8.78079488e-01  1.02e-14 7.16e-16  1.89e-06     2s\n",
      "  10   8.97736031e-01  8.97521905e-01  1.04e-14 4.44e-16  2.06e-08     2s\n",
      "  11   8.97735495e-01  8.97735172e-01  9.21e-15 4.44e-16  3.11e-11     2s\n",
      "  12   8.97735495e-01  8.97735495e-01  1.34e-14 4.44e-16  3.13e-14     2s\n",
      "\n",
      "Barrier solved model in 12 iterations and 2.39 seconds\n",
      "Optimal objective 8.97735495e-01\n",
      "\n",
      "\n",
      "User-callback calls 192, time in user-callback 0.00 sec\n",
      "Objective value is: 0.8977354950868132\n"
     ]
    }
   ],
   "source": [
    "T_cat = estimate_T(state_space, 10000, S, φ, 1.0, 20, 100; map_type=\"cat\");"
   ]
  },
  {
   "cell_type": "code",
   "execution_count": 45,
   "metadata": {},
   "outputs": [
    {
     "data": {
      "text/plain": [
       "2"
      ]
     },
     "execution_count": 45,
     "metadata": {},
     "output_type": "execute_result"
    }
   ],
   "source": [
    "T_per_cat = 2"
   ]
  },
  {
   "cell_type": "code",
   "execution_count": null,
   "metadata": {},
   "outputs": [],
   "source": []
  }
 ],
 "metadata": {
  "kernelspec": {
   "display_name": "Julia 1.6.1",
   "language": "julia",
   "name": "julia-1.6"
  },
  "language_info": {
   "file_extension": ".jl",
   "mimetype": "application/julia",
   "name": "julia",
   "version": "1.6.1"
  }
 },
 "nbformat": 4,
 "nbformat_minor": 4
}
