{
 "cells": [
  {
   "cell_type": "markdown",
   "metadata": {},
   "source": [
    "# Simulation #2\n",
    "Having written the functions required to implement estimation of $L$, we now experiment with a few different model parameters. First, however, it will be helpful to wrap all of the helper functions into a single ```estimate_L``` function."
   ]
  },
  {
   "cell_type": "code",
   "execution_count": 49,
   "metadata": {},
   "outputs": [],
   "source": [
    "include(\"functions.jl\");\n",
    "include(\"nnlsq.jl\");"
   ]
  },
  {
   "cell_type": "code",
   "execution_count": 32,
   "metadata": {},
   "outputs": [],
   "source": [
    "state_space = Dict(\"min\"=>0, \"max\"=>2π, \"grid_resolution\"=>1000);"
   ]
  },
  {
   "cell_type": "code",
   "execution_count": 50,
   "metadata": {},
   "outputs": [
    {
     "name": "stdout",
     "output_type": "stream",
     "text": [
      "Academic license - for non-commercial use only - expires 2021-08-05\n",
      "Warning for adding constraints: zero or small (< 1e-13) coefficients, ignored\n",
      "Gurobi Optimizer version 9.1.2 build v9.1.2rc0 (mac64)\n",
      "Thread count: 2 physical cores, 4 logical processors, using up to 4 threads\n",
      "Optimize a model with 900 rows, 10900 columns and 8875004 nonzeros\n",
      "Model fingerprint: 0x181e5049\n",
      "Model has 900 quadratic objective terms\n",
      "Coefficient statistics:\n",
      "  Matrix range     [1e-13, 1e+00]\n",
      "  Objective range  [0e+00, 0e+00]\n",
      "  QObjective range [2e+00, 2e+00]\n",
      "  Bounds range     [0e+00, 0e+00]\n",
      "  RHS range        [3e+00, 3e+00]\n",
      "Presolve time: 2.42s\n",
      "Presolved: 900 rows, 10900 columns, 8875004 nonzeros\n",
      "Presolved model has 900 quadratic objective terms\n",
      "Ordering time: 0.00s\n",
      "\n",
      "Barrier statistics:\n",
      " AA' NZ     : 4.046e+05\n",
      " Factor NZ  : 4.054e+05 (roughly 8 MBytes of memory)\n",
      " Factor Ops : 2.434e+08 (roughly 1 second per iteration)\n",
      " Threads    : 2\n",
      "\n",
      "                  Objective                Residual\n",
      "Iter       Primal          Dual         Primal    Dual     Compl     Time\n",
      "   0   2.22177765e+08 -2.24991114e+08  3.30e+06 0.00e+00  1.00e+06     4s\n",
      "   1   6.01282686e+07 -6.15883694e+07  4.80e+04 0.00e+00  2.48e+04     6s\n",
      "   2   8.41583542e+06 -8.96083878e+06  2.51e+02 0.00e+00  1.66e+03     7s\n",
      "   3   1.09642649e+06 -1.29280784e+06  2.23e-01 0.00e+00  2.19e+02     9s\n",
      "   4   1.39681201e+05 -2.09495717e+05  2.23e-07 0.00e+00  3.20e+01    10s\n",
      "   5   1.40224445e+04 -3.58551019e+04  3.06e-13 3.21e-12  4.58e+00    11s\n",
      "   6   7.64188675e+02 -5.36470161e+03  4.62e-14 1.41e-12  5.62e-01    12s\n",
      "   7   7.86275464e+01 -2.74914915e+02  3.82e-14 4.51e-13  3.24e-02    14s\n",
      "   8   6.41352979e+01 -2.84124844e+00  5.55e-13 9.68e-14  6.14e-03    15s\n",
      "   9   6.02026229e+01  4.23183039e+01  4.72e-12 3.69e-14  1.64e-03    16s\n",
      "  10   5.85569662e+01  5.50968294e+01  2.51e-12 3.64e-14  3.17e-04    18s\n",
      "  11   5.76961084e+01  5.66247546e+01  3.32e-11 1.87e-14  9.83e-05    20s\n",
      "  12   5.73716757e+01  5.69614896e+01  2.85e-11 1.51e-14  3.76e-05    21s\n",
      "  13   5.72745496e+01  5.70633012e+01  2.85e-11 1.69e-14  1.94e-05    23s\n",
      "  14   5.71818533e+01  5.71127304e+01  3.22e-11 1.40e-14  6.34e-06    24s\n",
      "  15   5.71574001e+01  5.71194083e+01  3.86e-11 1.42e-14  3.49e-06    26s\n",
      "  16   5.71338895e+01  5.71236258e+01  4.67e-11 1.60e-14  9.42e-07    27s\n",
      "  17   5.71295490e+01  5.71242524e+01  6.77e-11 1.87e-14  4.86e-07    29s\n",
      "  18   5.71265345e+01  5.71245712e+01  8.64e-11 2.66e-14  1.80e-07    30s\n",
      "  19   5.71248411e+01  5.71247501e+01  1.23e-10 2.31e-14  8.34e-09    32s\n",
      "  20   5.71247606e+01  5.71247581e+01  1.61e-10 1.55e-14  2.32e-10    33s\n",
      "  21   5.71247583e+01  5.71247583e+01  5.37e-11 2.22e-14  2.32e-13    34s\n",
      "\n",
      "Barrier solved model in 21 iterations and 34.24 seconds\n",
      "Optimal objective 5.71247583e+01\n",
      "\n",
      "\n",
      "User-callback calls 557, time in user-callback 0.00 sec\n",
      "Objective value is: 57.124758321668196\n"
     ]
    },
    {
     "data": {
      "text/plain": [
       "900×900 Matrix{Float64}:\n",
       " 0.000360148  0.00081329   0.000650557  …  4.24323e-9   1.67112e-9\n",
       " 0.000473509  0.00107802   0.000873179     9.72292e-9   3.83887e-9\n",
       " 0.000572066  0.00131742   0.00108567      2.38734e-8   9.52696e-9\n",
       " 0.000637492  0.00149135   0.00125749      6.01637e-8   2.43225e-8\n",
       " 0.000658448  0.00157274   0.00136513      1.50974e-7   6.16817e-8\n",
       " 0.000634035  0.00155464   0.00139692   …  3.73991e-7   1.53646e-7\n",
       " 0.000572802  0.00144888   0.00135296      9.1815e-7    3.7709e-7\n",
       " 0.000488451  0.00127863   0.00124215      2.24198e-6   9.16097e-7\n",
       " 0.000395042  0.00107062   0.00107956      5.4166e-6    2.19676e-6\n",
       " 0.000303902  0.000850076  0.000884985     1.27631e-5   5.1383e-6\n",
       " 0.000222691  0.000638695  0.000681227  …  2.8813e-5    1.1534e-5\n",
       " 0.000155681  0.000453253  0.000490584     6.13575e-5   2.4472e-5\n",
       " 0.000104365  0.000304206  0.000330226     0.000121919  4.85345e-5\n",
       " ⋮                                      ⋱               \n",
       " 1.96686e-5   5.19301e-5   4.92287e-5      0.000254258  8.66483e-5\n",
       " 9.78784e-6   2.58625e-5   2.45564e-5      0.000350883  0.000124983\n",
       " 4.73078e-6   1.2512e-5    1.19047e-5   …  0.000463157  0.000171336\n",
       " 2.24514e-6   5.94371e-6   5.66861e-6      0.000580839  0.000221465\n",
       " 1.04731e-6   2.7749e-6    2.65271e-6      0.0006866    0.000267848\n",
       " 4.75809e-7   1.26139e-6   1.20843e-6      0.000759012  0.000301066\n",
       " 2.07425e-7   5.50049e-7   5.27963e-7      0.000779294  0.000312777\n",
       " 8.54783e-8   2.26698e-7   2.1801e-7    …  0.000739048  0.000299074\n",
       " 3.29072e-8   8.72899e-8   8.41459e-8      0.000644702  0.000262385\n",
       " 1.17426e-8   3.117e-8     3.01615e-8      0.000515762  0.000210736\n",
       " 3.86741e-9   1.02862e-8   1.0022e-8       0.00037758   0.000154697\n",
       " 1.17412e-9   3.13803e-9   3.09732e-9      0.000252569  0.000103676"
      ]
     },
     "execution_count": 50,
     "metadata": {},
     "output_type": "execute_result"
    }
   ],
   "source": [
    "L = estimate_L(state_space, 10000, S, φ, 1, 30, 100; dist=\"normal\")"
   ]
  }
 ],
 "metadata": {
  "kernelspec": {
   "display_name": "Julia 1.6.1",
   "language": "julia",
   "name": "julia-1.6"
  },
  "language_info": {
   "file_extension": ".jl",
   "mimetype": "application/julia",
   "name": "julia",
   "version": "1.6.1"
  }
 },
 "nbformat": 4,
 "nbformat_minor": 4
}
